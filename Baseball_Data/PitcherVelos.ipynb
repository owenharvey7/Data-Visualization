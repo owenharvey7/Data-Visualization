{
 "cells": [
  {
   "cell_type": "markdown",
   "id": "716f6444",
   "metadata": {},
   "source": [
    "# I will be investigating the correlation to MLB Pitcher BMI and Velocity\n",
    "\n",
    "## I will be looking at stats from last year where pitchers ahve at least 100 pitches in the season"
   ]
  },
  {
   "cell_type": "markdown",
   "id": "1c43a7d6",
   "metadata": {},
   "source": []
  },
  {
   "cell_type": "code",
   "execution_count": 15,
   "id": "111e2a41",
   "metadata": {},
   "outputs": [],
   "source": [
    "#Import Necessary libraries\n",
    "import os \n",
    "import pandas as pd\n",
    "import numpy as np\n",
    "import matplotlib.pyplot as plt\n",
    "import math"
   ]
  },
  {
   "cell_type": "code",
   "execution_count": 16,
   "id": "e70b3efc",
   "metadata": {},
   "outputs": [],
   "source": [
    "# Read CSV file\n",
    "file_path = 'pitch_movement.csv' \n",
    "def read_csv_file(file_path):\n",
    "    df = pd.read_csv(file_path)\n",
    "    return df"
   ]
  },
  {
   "cell_type": "code",
   "execution_count": 17,
   "id": "7f3d43aa",
   "metadata": {},
   "outputs": [
    {
     "name": "stdout",
     "output_type": "stream",
     "text": [
      "First few rows of the DataFrame:\n",
      "   year last_name, first_name  pitcher_id  team_name team_name_abbrev  \\\n",
      "0  2024       Gore, MacKenzie      669022  Nationals              WSH   \n",
      "1  2024       Peralta, Freddy      642547    Brewers              MIL   \n",
      "2  2024         Rodón, Carlos      607074    Yankees              NYY   \n",
      "3  2024        Gausman, Kevin      592332  Blue Jays              TOR   \n",
      "4  2024        Greene, Hunter      668881       Reds              CIN   \n",
      "\n",
      "  pitch_hand  avg_speed  pitches_thrown  total_pitches  pitches_per_game  ...  \\\n",
      "0          L       96.0            1657           2994         18.481481  ...   \n",
      "1          R       94.3            1650           3066         18.925926  ...   \n",
      "2          L       95.4            1531           3102         19.148148  ...   \n",
      "3          R       94.0            1487           2958         18.259259  ...   \n",
      "4          R       97.6            1415           2563         15.820988  ...   \n",
      "\n",
      "   league_break_z diff_z rise  pitcher_break_z_induced  pitcher_break_x  \\\n",
      "0           -13.7    1.6   11                     17.6              5.9   \n",
      "1           -15.7    1.4    9                     16.7              6.8   \n",
      "2           -13.6    1.3    9                     17.8              8.8   \n",
      "3           -15.2    1.0    7                     17.0             10.7   \n",
      "4           -12.8    0.5    4                     16.6              8.9   \n",
      "\n",
      "   league_break_x  diff_x  tail  percent_rank_diff_z  percent_rank_diff_x  \n",
      "0            -7.3    -1.4   -19             0.862981             0.283654  \n",
      "1            -8.4    -1.6   -19             0.831731             0.252404  \n",
      "2            -7.1     1.7    24             0.812500             0.697115  \n",
      "3            -7.4     3.3    44             0.737981             0.884615  \n",
      "4            -7.6     1.2    16             0.644231             0.639423  \n",
      "\n",
      "[5 rows x 24 columns]\n"
     ]
    }
   ],
   "source": [
    "# Display the first few rows of the DataFrame\n",
    "def display_data(df):\n",
    "    print(\"First few rows of the DataFrame:\")\n",
    "    print(df.head())\n",
    "    return df  \n",
    "\n",
    "# Call the functions\n",
    "df = read_csv_file(file_path)\n",
    "df = display_data(df)"
   ]
  },
  {
   "cell_type": "code",
   "execution_count": 18,
   "id": "1210303d",
   "metadata": {},
   "outputs": [
    {
     "name": "stdout",
     "output_type": "stream",
     "text": [
      "   year             name  pitcher_id  team_name team_name_abbrev pitch_hand  \\\n",
      "0  2024  Gore, MacKenzie      669022  Nationals              WSH          L   \n",
      "1  2024  Peralta, Freddy      642547    Brewers              MIL          R   \n",
      "2  2024    Rodón, Carlos      607074    Yankees              NYY          L   \n",
      "3  2024   Gausman, Kevin      592332  Blue Jays              TOR          R   \n",
      "4  2024   Greene, Hunter      668881       Reds              CIN          R   \n",
      "\n",
      "   avg_speed  pitches_thrown  total_pitches  pitches_per_game  ...  \\\n",
      "0       96.0            1657           2994         18.481481  ...   \n",
      "1       94.3            1650           3066         18.925926  ...   \n",
      "2       95.4            1531           3102         19.148148  ...   \n",
      "3       94.0            1487           2958         18.259259  ...   \n",
      "4       97.6            1415           2563         15.820988  ...   \n",
      "\n",
      "   league_break_z diff_z rise  pitcher_break_z_induced  pitcher_break_x  \\\n",
      "0           -13.7    1.6   11                     17.6              5.9   \n",
      "1           -15.7    1.4    9                     16.7              6.8   \n",
      "2           -13.6    1.3    9                     17.8              8.8   \n",
      "3           -15.2    1.0    7                     17.0             10.7   \n",
      "4           -12.8    0.5    4                     16.6              8.9   \n",
      "\n",
      "   league_break_x  diff_x  tail  percent_rank_diff_z  percent_rank_diff_x  \n",
      "0            -7.3    -1.4   -19             0.862981             0.283654  \n",
      "1            -8.4    -1.6   -19             0.831731             0.252404  \n",
      "2            -7.1     1.7    24             0.812500             0.697115  \n",
      "3            -7.4     3.3    44             0.737981             0.884615  \n",
      "4            -7.6     1.2    16             0.644231             0.639423  \n",
      "\n",
      "[5 rows x 24 columns]\n"
     ]
    }
   ],
   "source": [
    "# Rename colum last_name, first_name to name\n",
    "df = df.rename(columns={'last_name, first_name': 'name'})\n",
    "\n",
    "print(df.head())"
   ]
  },
  {
   "cell_type": "code",
   "execution_count": 19,
   "id": "c0778ca8",
   "metadata": {},
   "outputs": [
    {
     "name": "stdout",
     "output_type": "stream",
     "text": [
      "Formatted names:\n",
      "   year            name  pitcher_id  team_name team_name_abbrev pitch_hand  \\\n",
      "0  2024  MacKenzie Gore      669022  Nationals              WSH          L   \n",
      "1  2024  Freddy Peralta      642547    Brewers              MIL          R   \n",
      "2  2024    Carlos Rodón      607074    Yankees              NYY          L   \n",
      "3  2024   Kevin Gausman      592332  Blue Jays              TOR          R   \n",
      "4  2024   Hunter Greene      668881       Reds              CIN          R   \n",
      "\n",
      "   avg_speed  pitches_thrown  total_pitches  pitches_per_game  ...  \\\n",
      "0       96.0            1657           2994         18.481481  ...   \n",
      "1       94.3            1650           3066         18.925926  ...   \n",
      "2       95.4            1531           3102         19.148148  ...   \n",
      "3       94.0            1487           2958         18.259259  ...   \n",
      "4       97.6            1415           2563         15.820988  ...   \n",
      "\n",
      "   league_break_z diff_z rise  pitcher_break_z_induced  pitcher_break_x  \\\n",
      "0           -13.7    1.6   11                     17.6              5.9   \n",
      "1           -15.7    1.4    9                     16.7              6.8   \n",
      "2           -13.6    1.3    9                     17.8              8.8   \n",
      "3           -15.2    1.0    7                     17.0             10.7   \n",
      "4           -12.8    0.5    4                     16.6              8.9   \n",
      "\n",
      "   league_break_x  diff_x  tail  percent_rank_diff_z  percent_rank_diff_x  \n",
      "0            -7.3    -1.4   -19             0.862981             0.283654  \n",
      "1            -8.4    -1.6   -19             0.831731             0.252404  \n",
      "2            -7.1     1.7    24             0.812500             0.697115  \n",
      "3            -7.4     3.3    44             0.737981             0.884615  \n",
      "4            -7.6     1.2    16             0.644231             0.639423  \n",
      "\n",
      "[5 rows x 24 columns]\n"
     ]
    }
   ],
   "source": [
    "def format_name(name):\n",
    "    try:\n",
    "        last, first = [x.strip() for x in name.split(',')]\n",
    "        return f\"{first} {last}\"\n",
    "    except:\n",
    "        return name\n",
    "\n",
    "print(\"Formatted names:\")\n",
    "df['name'] = df['name'].apply(format_name)\n",
    "print(df.head())"
   ]
  },
  {
   "cell_type": "code",
   "execution_count": null,
   "id": "a0cd8748",
   "metadata": {},
   "outputs": [],
   "source": [
    "# I know need to add columns to the dataframe to get the pitchers height and weight. \n",
    "# To do this I will need to scrape the data from the MLB website.\n",
    "import requests\n",
    "from bs4 import BeautifulSoup\n",
    "import re\n",
    "import time\n",
    "from unidecode import unidecode\n"
   ]
  },
  {
   "cell_type": "code",
   "execution_count": null,
   "id": "1e5bf402",
   "metadata": {},
   "outputs": [
    {
     "name": "stdout",
     "output_type": "stream",
     "text": [
      "Collecting unidecode\n",
      "  Downloading Unidecode-1.4.0-py3-none-any.whl.metadata (13 kB)\n",
      "Downloading Unidecode-1.4.0-py3-none-any.whl (235 kB)\n",
      "Installing collected packages: unidecode\n",
      "Successfully installed unidecode-1.4.0\n",
      "\n",
      "Searching: Gore, MacKenzie\n",
      "→ URL: None\n",
      "   → Not found.\n",
      "\n",
      "Searching: Peralta, Freddy\n",
      "→ URL: None\n",
      "   → Not found.\n",
      "\n",
      "Searching: Rodón, Carlos\n",
      "→ URL: None\n",
      "   → Not found.\n",
      "\n",
      "Searching: Gausman, Kevin\n",
      "→ URL: None\n",
      "   → Not found.\n"
     ]
    }
   ],
   "source": [
    "# Format \"Last, First\" → \"First Last\"\n",
    "def format_name(name):\n",
    "    last, first = [x.strip() for x in name.split(\",\")]\n",
    "    return f\"{first} {last}\"\n",
    "\n",
    "# Build guessed Baseball-Reference ID\n",
    "def slug_br_id(first, last, suffix='01'):\n",
    "    return f\"/players/{last[0].lower()}/{last[:5].lower()}{first[:2].lower()}{suffix}.shtml\"\n",
    "\n",
    "# Try to guess the player URL\n",
    "def find_br_url(raw_name):\n",
    "    try:\n",
    "        # Handle \"Last, First\" → \"First Last\" and remove accents\n",
    "        full_name = format_name(raw_name)\n",
    "        full_name = unidecode(full_name)\n",
    "        first, last = full_name.split()\n",
    "\n",
    "        for suffix in ['01', '02', '03']:\n",
    "            path = slug_br_id(first, last, suffix)\n",
    "            url = f\"https://www.baseball-reference.com{path}\"\n",
    "            r = requests.get(url, headers={\"User-Agent\": \"Mozilla/5.0\"})\n",
    "            if r.status_code == 200:\n",
    "                return url\n",
    "\n",
    "        # Fallback: search the site (in case ID guess fails)\n",
    "        search_url = f\"https://www.baseball-reference.com/search/search.fcgi?search={full_name.replace(' ', '+')}\"\n",
    "        r = requests.get(search_url, headers={\"User-Agent\": \"Mozilla/5.0\"})\n",
    "        soup = BeautifulSoup(r.text, 'html.parser')\n",
    "        a = soup.select_one(\"div.search-item-name a\")\n",
    "        if a and '/players/' in a['href']:\n",
    "            return 'https://www.baseball-reference.com' + a['href']\n",
    "    except Exception as e:\n",
    "        print(f\"Error in find_br_url({raw_name}): {e}\")\n",
    "    return None\n",
    "\n",
    "# Extract height and weight\n",
    "def scrape_height_weight(url):\n",
    "    try:\n",
    "        r = requests.get(url, headers={\"User-Agent\": \"Mozilla/5.0\"})\n",
    "        if r.status_code != 200:\n",
    "            return None, None\n",
    "        soup = BeautifulSoup(r.text, 'html.parser')\n",
    "        meta = soup.find('div', id='meta')\n",
    "        if meta:\n",
    "            text = meta.get_text()\n",
    "            height_match = re.search(r'(\\d+-\\d+)', text)\n",
    "            weight_match = re.search(r'(\\d{3}) lb', text)\n",
    "            height = height_match.group(1) if height_match else None\n",
    "            weight = weight_match.group(1) if weight_match else None\n",
    "            return height, weight\n",
    "    except Exception as e:\n",
    "        print(f\"Error scraping {url}: {e}\")\n",
    "    return None, None\n",
    "\n",
    "# Example usage (use your real CSV here)\n",
    "names = [\"Gore, MacKenzie\", \"Peralta, Freddy\", \"Rodón, Carlos\", \"Gausman, Kevin\"]\n",
    "\n",
    "for raw_name in names:\n",
    "    print(f\"\\nSearching: {raw_name}\")\n",
    "    url = find_br_url(raw_name)\n",
    "    print(f\"→ URL: {url}\")\n",
    "    if url:\n",
    "        height, weight = scrape_height_weight(url)\n",
    "        print(f\"   Height: {height}, Weight: {weight}\")\n",
    "    else:\n",
    "        print(\"   → Not found.\")\n",
    "    time.sleep(1.5)\n"
   ]
  },
  {
   "cell_type": "code",
   "execution_count": null,
   "id": "af646e13",
   "metadata": {},
   "outputs": [],
   "source": []
  }
 ],
 "metadata": {
  "kernelspec": {
   "display_name": "Python 3",
   "language": "python",
   "name": "python3"
  },
  "language_info": {
   "codemirror_mode": {
    "name": "ipython",
    "version": 3
   },
   "file_extension": ".py",
   "mimetype": "text/x-python",
   "name": "python",
   "nbconvert_exporter": "python",
   "pygments_lexer": "ipython3",
   "version": "3.11.9"
  }
 },
 "nbformat": 4,
 "nbformat_minor": 5
}
