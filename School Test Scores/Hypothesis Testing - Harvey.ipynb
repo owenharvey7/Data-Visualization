{
 "cells": [
  {
   "cell_type": "code",
   "execution_count": 35,
   "id": "initial_id",
   "metadata": {
    "ExecuteTime": {
     "end_time": "2024-02-21T18:18:33.296692Z",
     "start_time": "2024-02-21T18:18:33.244535Z"
    }
   },
   "outputs": [],
   "source": [
    "# import libraries\n",
    "import pandas as pd\n",
    "import matplotlib.pyplot as plt\n",
    "import seaborn as sns\n",
    "from scipy import stats\n",
    "# ignore warnings\n",
    "import warnings\n",
    "warnings.filterwarnings('ignore')\n",
    "\n",
    "# Link to Notebook:\n",
    "# https://www.kaggle.com/datasets/desalegngeb/students-exam-scores\n",
    "\n",
    "# Read the two csv files\n",
    "df = pd.read_csv('Expanded_data_with_more_features.csv')"
   ]
  },
  {
   "cell_type": "markdown",
   "id": "9691850804816780",
   "metadata": {
    "collapsed": false,
    "jupyter": {
     "outputs_hidden": false
    }
   },
   "source": [
    "\n",
    "## Students Exam Scores: Extended Dataset\n",
    "## Exam scores for students at a public school\n",
    "\n",
    "### Data Columns\n",
    "\n",
    "\n",
    "- **Gender**: Gender of the student (male/female)\n",
    "- **EthnicGroup**: Ethnic group of the student (group A to E)\n",
    "- **ParentEduc**: Parent(s) education background (from some_highschool to master's degree)\n",
    "- LunchType: School lunch type (standard or free/reduced)\n",
    "- TestPrep: Test preparation course followed (completed or none)\n",
    "- ParentMaritalStatus: Parent(s) marital status (married/single/widowed/divorced)\n",
    "- PracticeSport: How often the student parctice sport (never/sometimes/regularly))\n",
    "- IsFirstChild: If the child is first child in the family or not (yes/no)\n",
    "- NrSiblings: Number of siblings the student has (0 to 7)\n",
    "- TransportMeans: Means of transport to school (schoolbus/private)\n",
    "- WklyStudyHours: Weekly self-study hours(less that 5hrs; between 5 and 10hrs; more than 10hrs)\n",
    "- **MathScore**: math test score(0-100)\n",
    "- **ReadingScore**: reading test score(0-100)\n",
    "- **WritingScore**: writing test score(0-100)\n"
   ]
  },
  {
   "cell_type": "code",
   "execution_count": 36,
   "id": "b7255a89f1f3cae0",
   "metadata": {
    "ExecuteTime": {
     "end_time": "2024-02-21T18:18:33.297720Z",
     "start_time": "2024-02-21T18:18:33.287906Z"
    },
    "collapsed": false,
    "jupyter": {
     "outputs_hidden": false
    }
   },
   "outputs": [
    {
     "data": {
      "text/html": [
       "<div>\n",
       "<style scoped>\n",
       "    .dataframe tbody tr th:only-of-type {\n",
       "        vertical-align: middle;\n",
       "    }\n",
       "\n",
       "    .dataframe tbody tr th {\n",
       "        vertical-align: top;\n",
       "    }\n",
       "\n",
       "    .dataframe thead th {\n",
       "        text-align: right;\n",
       "    }\n",
       "</style>\n",
       "<table border=\"1\" class=\"dataframe\">\n",
       "  <thead>\n",
       "    <tr style=\"text-align: right;\">\n",
       "      <th></th>\n",
       "      <th>ID</th>\n",
       "      <th>Gender</th>\n",
       "      <th>EthnicGroup</th>\n",
       "      <th>ParentEduc</th>\n",
       "      <th>LunchType</th>\n",
       "      <th>TestPrep</th>\n",
       "      <th>ParentMaritalStatus</th>\n",
       "      <th>PracticeSport</th>\n",
       "      <th>IsFirstChild</th>\n",
       "      <th>NrSiblings</th>\n",
       "      <th>TransportMeans</th>\n",
       "      <th>WklyStudyHours</th>\n",
       "      <th>MathScore</th>\n",
       "      <th>ReadingScore</th>\n",
       "      <th>WritingScore</th>\n",
       "    </tr>\n",
       "  </thead>\n",
       "  <tbody>\n",
       "    <tr>\n",
       "      <th>0</th>\n",
       "      <td>0</td>\n",
       "      <td>female</td>\n",
       "      <td>NaN</td>\n",
       "      <td>bachelor's degree</td>\n",
       "      <td>standard</td>\n",
       "      <td>none</td>\n",
       "      <td>married</td>\n",
       "      <td>regularly</td>\n",
       "      <td>yes</td>\n",
       "      <td>3.0</td>\n",
       "      <td>school_bus</td>\n",
       "      <td>&lt; 5</td>\n",
       "      <td>71</td>\n",
       "      <td>71</td>\n",
       "      <td>74</td>\n",
       "    </tr>\n",
       "    <tr>\n",
       "      <th>1</th>\n",
       "      <td>1</td>\n",
       "      <td>female</td>\n",
       "      <td>group C</td>\n",
       "      <td>some college</td>\n",
       "      <td>standard</td>\n",
       "      <td>NaN</td>\n",
       "      <td>married</td>\n",
       "      <td>sometimes</td>\n",
       "      <td>yes</td>\n",
       "      <td>0.0</td>\n",
       "      <td>NaN</td>\n",
       "      <td>5 - 10</td>\n",
       "      <td>69</td>\n",
       "      <td>90</td>\n",
       "      <td>88</td>\n",
       "    </tr>\n",
       "    <tr>\n",
       "      <th>2</th>\n",
       "      <td>2</td>\n",
       "      <td>female</td>\n",
       "      <td>group B</td>\n",
       "      <td>master's degree</td>\n",
       "      <td>standard</td>\n",
       "      <td>none</td>\n",
       "      <td>single</td>\n",
       "      <td>sometimes</td>\n",
       "      <td>yes</td>\n",
       "      <td>4.0</td>\n",
       "      <td>school_bus</td>\n",
       "      <td>&lt; 5</td>\n",
       "      <td>87</td>\n",
       "      <td>93</td>\n",
       "      <td>91</td>\n",
       "    </tr>\n",
       "    <tr>\n",
       "      <th>3</th>\n",
       "      <td>3</td>\n",
       "      <td>male</td>\n",
       "      <td>group A</td>\n",
       "      <td>associate's degree</td>\n",
       "      <td>free/reduced</td>\n",
       "      <td>none</td>\n",
       "      <td>married</td>\n",
       "      <td>never</td>\n",
       "      <td>no</td>\n",
       "      <td>1.0</td>\n",
       "      <td>NaN</td>\n",
       "      <td>5 - 10</td>\n",
       "      <td>45</td>\n",
       "      <td>56</td>\n",
       "      <td>42</td>\n",
       "    </tr>\n",
       "    <tr>\n",
       "      <th>4</th>\n",
       "      <td>4</td>\n",
       "      <td>male</td>\n",
       "      <td>group C</td>\n",
       "      <td>some college</td>\n",
       "      <td>standard</td>\n",
       "      <td>none</td>\n",
       "      <td>married</td>\n",
       "      <td>sometimes</td>\n",
       "      <td>yes</td>\n",
       "      <td>0.0</td>\n",
       "      <td>school_bus</td>\n",
       "      <td>5 - 10</td>\n",
       "      <td>76</td>\n",
       "      <td>78</td>\n",
       "      <td>75</td>\n",
       "    </tr>\n",
       "  </tbody>\n",
       "</table>\n",
       "</div>"
      ],
      "text/plain": [
       "   ID  Gender EthnicGroup          ParentEduc     LunchType TestPrep  \\\n",
       "0   0  female         NaN   bachelor's degree      standard     none   \n",
       "1   1  female     group C        some college      standard      NaN   \n",
       "2   2  female     group B     master's degree      standard     none   \n",
       "3   3    male     group A  associate's degree  free/reduced     none   \n",
       "4   4    male     group C        some college      standard     none   \n",
       "\n",
       "  ParentMaritalStatus PracticeSport IsFirstChild  NrSiblings TransportMeans  \\\n",
       "0             married     regularly          yes         3.0     school_bus   \n",
       "1             married     sometimes          yes         0.0            NaN   \n",
       "2              single     sometimes          yes         4.0     school_bus   \n",
       "3             married         never           no         1.0            NaN   \n",
       "4             married     sometimes          yes         0.0     school_bus   \n",
       "\n",
       "  WklyStudyHours  MathScore  ReadingScore  WritingScore  \n",
       "0            < 5         71            71            74  \n",
       "1         5 - 10         69            90            88  \n",
       "2            < 5         87            93            91  \n",
       "3         5 - 10         45            56            42  \n",
       "4         5 - 10         76            78            75  "
      ]
     },
     "execution_count": 36,
     "metadata": {},
     "output_type": "execute_result"
    }
   ],
   "source": [
    "# print the first and last 5 rows\n",
    "df.head()"
   ]
  },
  {
   "cell_type": "code",
   "execution_count": 37,
   "id": "7d9a4f8c714e1b18",
   "metadata": {
    "ExecuteTime": {
     "end_time": "2024-02-21T18:18:33.341799Z",
     "start_time": "2024-02-21T18:18:33.309181Z"
    },
    "collapsed": false,
    "jupyter": {
     "outputs_hidden": false
    }
   },
   "outputs": [
    {
     "name": "stdout",
     "output_type": "stream",
     "text": [
      "<class 'pandas.core.frame.DataFrame'>\n",
      "RangeIndex: 30641 entries, 0 to 30640\n",
      "Data columns (total 15 columns):\n",
      " #   Column               Non-Null Count  Dtype  \n",
      "---  ------               --------------  -----  \n",
      " 0   ID                   30641 non-null  int64  \n",
      " 1   Gender               30641 non-null  object \n",
      " 2   EthnicGroup          28801 non-null  object \n",
      " 3   ParentEduc           28796 non-null  object \n",
      " 4   LunchType            30641 non-null  object \n",
      " 5   TestPrep             28811 non-null  object \n",
      " 6   ParentMaritalStatus  29451 non-null  object \n",
      " 7   PracticeSport        30010 non-null  object \n",
      " 8   IsFirstChild         29737 non-null  object \n",
      " 9   NrSiblings           29069 non-null  float64\n",
      " 10  TransportMeans       27507 non-null  object \n",
      " 11  WklyStudyHours       29686 non-null  object \n",
      " 12  MathScore            30641 non-null  int64  \n",
      " 13  ReadingScore         30641 non-null  int64  \n",
      " 14  WritingScore         30641 non-null  int64  \n",
      "dtypes: float64(1), int64(4), object(10)\n",
      "memory usage: 3.5+ MB\n"
     ]
    }
   ],
   "source": [
    "# check the data types\n",
    "df.info()"
   ]
  },
  {
   "cell_type": "code",
   "execution_count": 38,
   "id": "bbaf565f74a881a",
   "metadata": {
    "ExecuteTime": {
     "end_time": "2024-02-21T18:18:33.388741Z",
     "start_time": "2024-02-21T18:18:33.321574Z"
    },
    "collapsed": false,
    "jupyter": {
     "outputs_hidden": false
    }
   },
   "outputs": [
    {
     "data": {
      "text/html": [
       "<div>\n",
       "<style scoped>\n",
       "    .dataframe tbody tr th:only-of-type {\n",
       "        vertical-align: middle;\n",
       "    }\n",
       "\n",
       "    .dataframe tbody tr th {\n",
       "        vertical-align: top;\n",
       "    }\n",
       "\n",
       "    .dataframe thead th {\n",
       "        text-align: right;\n",
       "    }\n",
       "</style>\n",
       "<table border=\"1\" class=\"dataframe\">\n",
       "  <thead>\n",
       "    <tr style=\"text-align: right;\">\n",
       "      <th></th>\n",
       "      <th>ID</th>\n",
       "      <th>NrSiblings</th>\n",
       "      <th>MathScore</th>\n",
       "      <th>ReadingScore</th>\n",
       "      <th>WritingScore</th>\n",
       "    </tr>\n",
       "  </thead>\n",
       "  <tbody>\n",
       "    <tr>\n",
       "      <th>count</th>\n",
       "      <td>30641.000000</td>\n",
       "      <td>29069.000000</td>\n",
       "      <td>30641.000000</td>\n",
       "      <td>30641.000000</td>\n",
       "      <td>30641.000000</td>\n",
       "    </tr>\n",
       "    <tr>\n",
       "      <th>mean</th>\n",
       "      <td>499.556607</td>\n",
       "      <td>2.145894</td>\n",
       "      <td>66.558402</td>\n",
       "      <td>69.377533</td>\n",
       "      <td>68.418622</td>\n",
       "    </tr>\n",
       "    <tr>\n",
       "      <th>std</th>\n",
       "      <td>288.747894</td>\n",
       "      <td>1.458242</td>\n",
       "      <td>15.361616</td>\n",
       "      <td>14.758952</td>\n",
       "      <td>15.443525</td>\n",
       "    </tr>\n",
       "    <tr>\n",
       "      <th>min</th>\n",
       "      <td>0.000000</td>\n",
       "      <td>0.000000</td>\n",
       "      <td>0.000000</td>\n",
       "      <td>10.000000</td>\n",
       "      <td>4.000000</td>\n",
       "    </tr>\n",
       "    <tr>\n",
       "      <th>25%</th>\n",
       "      <td>249.000000</td>\n",
       "      <td>1.000000</td>\n",
       "      <td>56.000000</td>\n",
       "      <td>59.000000</td>\n",
       "      <td>58.000000</td>\n",
       "    </tr>\n",
       "    <tr>\n",
       "      <th>50%</th>\n",
       "      <td>500.000000</td>\n",
       "      <td>2.000000</td>\n",
       "      <td>67.000000</td>\n",
       "      <td>70.000000</td>\n",
       "      <td>69.000000</td>\n",
       "    </tr>\n",
       "    <tr>\n",
       "      <th>75%</th>\n",
       "      <td>750.000000</td>\n",
       "      <td>3.000000</td>\n",
       "      <td>78.000000</td>\n",
       "      <td>80.000000</td>\n",
       "      <td>79.000000</td>\n",
       "    </tr>\n",
       "    <tr>\n",
       "      <th>max</th>\n",
       "      <td>999.000000</td>\n",
       "      <td>7.000000</td>\n",
       "      <td>100.000000</td>\n",
       "      <td>100.000000</td>\n",
       "      <td>100.000000</td>\n",
       "    </tr>\n",
       "  </tbody>\n",
       "</table>\n",
       "</div>"
      ],
      "text/plain": [
       "                 ID    NrSiblings     MathScore  ReadingScore  WritingScore\n",
       "count  30641.000000  29069.000000  30641.000000  30641.000000  30641.000000\n",
       "mean     499.556607      2.145894     66.558402     69.377533     68.418622\n",
       "std      288.747894      1.458242     15.361616     14.758952     15.443525\n",
       "min        0.000000      0.000000      0.000000     10.000000      4.000000\n",
       "25%      249.000000      1.000000     56.000000     59.000000     58.000000\n",
       "50%      500.000000      2.000000     67.000000     70.000000     69.000000\n",
       "75%      750.000000      3.000000     78.000000     80.000000     79.000000\n",
       "max      999.000000      7.000000    100.000000    100.000000    100.000000"
      ]
     },
     "execution_count": 38,
     "metadata": {},
     "output_type": "execute_result"
    }
   ],
   "source": [
    "# check the data statistics\n",
    "df.describe()"
   ]
  },
  {
   "cell_type": "code",
   "execution_count": 39,
   "id": "aa710ff99d9095de",
   "metadata": {
    "ExecuteTime": {
     "end_time": "2024-02-21T18:18:33.413741Z",
     "start_time": "2024-02-21T18:18:33.338045Z"
    },
    "collapsed": false,
    "jupyter": {
     "outputs_hidden": false
    }
   },
   "outputs": [
    {
     "data": {
      "text/plain": [
       "ID                        0\n",
       "Gender                    0\n",
       "EthnicGroup            1840\n",
       "ParentEduc             1845\n",
       "LunchType                 0\n",
       "TestPrep               1830\n",
       "ParentMaritalStatus    1190\n",
       "PracticeSport           631\n",
       "IsFirstChild            904\n",
       "NrSiblings             1572\n",
       "TransportMeans         3134\n",
       "WklyStudyHours          955\n",
       "MathScore                 0\n",
       "ReadingScore              0\n",
       "WritingScore              0\n",
       "dtype: int64"
      ]
     },
     "execution_count": 39,
     "metadata": {},
     "output_type": "execute_result"
    }
   ],
   "source": [
    "# check for missing values\n",
    "df.isnull().sum()"
   ]
  },
  {
   "cell_type": "code",
   "execution_count": 40,
   "id": "522ce7cc9676384",
   "metadata": {
    "ExecuteTime": {
     "end_time": "2024-02-21T18:18:33.418696Z",
     "start_time": "2024-02-21T18:18:33.341748Z"
    },
    "collapsed": false,
    "jupyter": {
     "outputs_hidden": false
    }
   },
   "outputs": [
    {
     "data": {
      "text/plain": [
       "Index(['ID', 'Gender', 'EthnicGroup', 'ParentEduc', 'LunchType', 'TestPrep',\n",
       "       'ParentMaritalStatus', 'PracticeSport', 'IsFirstChild', 'NrSiblings',\n",
       "       'TransportMeans', 'WklyStudyHours', 'MathScore', 'ReadingScore',\n",
       "       'WritingScore'],\n",
       "      dtype='object')"
      ]
     },
     "execution_count": 40,
     "metadata": {},
     "output_type": "execute_result"
    }
   ],
   "source": [
    "df.columns"
   ]
  },
  {
   "cell_type": "code",
   "execution_count": 41,
   "id": "e6acfb53932196ad",
   "metadata": {
    "ExecuteTime": {
     "end_time": "2024-02-21T18:18:33.418963Z",
     "start_time": "2024-02-21T18:18:33.344206Z"
    },
    "collapsed": false,
    "jupyter": {
     "outputs_hidden": false
    }
   },
   "outputs": [],
   "source": [
    "# Combine all the scores into one column. \n",
    "# I feel this gives a better representation of the student's performance vs just one score.\n",
    "df['TotalScore'] = (df['MathScore'] + df['ReadingScore'] + df['WritingScore']) / 3"
   ]
  },
  {
   "cell_type": "markdown",
   "id": "1b82feee1718306a",
   "metadata": {
    "collapsed": false,
    "jupyter": {
     "outputs_hidden": false
    }
   },
   "source": [
    "## Hypothesis Scenario\n",
    "\n",
    "Investigating whether there is a significant difference in students total average scores between male and female students.\n",
    "I also would like to look at the total average based on factors like ethnicity and parent education.\n",
    "\n",
    "- - H0: There is no significant difference in total average scores between male and female students.\n",
    "\n",
    "- - H1: There is a significant difference in total average scores betweenmale and female students."
   ]
  },
  {
   "cell_type": "code",
   "execution_count": 48,
   "id": "319e429048c1b1b8",
   "metadata": {
    "ExecuteTime": {
     "end_time": "2024-02-21T18:18:33.464008Z",
     "start_time": "2024-02-21T18:18:33.349120Z"
    },
    "collapsed": false,
    "jupyter": {
     "outputs_hidden": false
    }
   },
   "outputs": [
    {
     "data": {
      "image/png": "[encoded data removed]",
      "text/plain": [
       "<Figure size 640x480 with 1 Axes>"
      ]
     },
     "metadata": {},
     "output_type": "display_data"
    },
    {
     "name": "stdout",
     "output_type": "stream",
     "text": [
      "\n",
      "Male Scores:\n",
      " count    15217.000000\n",
      "mean        66.281615\n",
      "std         14.376135\n",
      "min         10.000000\n",
      "25%         56.333333\n",
      "50%         66.333333\n",
      "75%         76.666667\n",
      "max        100.000000\n",
      "Name: TotalScore, dtype: float64\n",
      "\n",
      "Female Scores:\n",
      " count    15424.000000\n",
      "mean        69.930109\n",
      "std         14.302235\n",
      "min          9.000000\n",
      "25%         60.000000\n",
      "50%         70.333333\n",
      "75%         80.333333\n",
      "max        100.000000\n",
      "Name: TotalScore, dtype: float64\n"
     ]
    }
   ],
   "source": [
    "# Replace the female and male in the dataset with 0 and 1\n",
    "df['Gender'] = df['Gender'].replace({'female': 0, 'male': 1})\n",
    "\n",
    "# Perform the t-test\n",
    "male_scores = df[df['Gender'] == 1]['TotalScore']\n",
    "female_scores = df[df['Gender'] == 0]['TotalScore']\n",
    "t_stat, p_value = stats.ttest_ind(male_scores, female_scores)\n",
    "\n",
    "# Visualize the data\n",
    "sns.boxplot(x='Gender', y='TotalScore', data=df)\n",
    "plt.xlabel('Gender')\n",
    "plt.ylabel('Test Scores')\n",
    "plt.xticks([0, 1], ['Female', 'Male'])\n",
    "plt.title('Distribution of Total Test Scores by Gender')\n",
    "plt.show()\n",
    "print(\"\\nMale Scores:\\n\", male_scores.describe())\n",
    "print(\"\\nFemale Scores:\\n\", female_scores.describe())"
   ]
  },
  {
   "cell_type": "markdown",
   "id": "cb548d190e18eb47",
   "metadata": {
    "collapsed": false,
    "jupyter": {
     "outputs_hidden": false
    }
   },
   "source": [
    "Visualizing the data, we can see that the distribution of total average scores between male and females is different with males having a lower score. But If we analyze the p value we can see for sure."
   ]
  },
  {
   "cell_type": "code",
   "execution_count": 43,
   "id": "476c768ce7e4ccde",
   "metadata": {
    "ExecuteTime": {
     "end_time": "2024-02-21T18:18:33.464664Z",
     "start_time": "2024-02-21T18:18:33.435239Z"
    },
    "collapsed": false,
    "jupyter": {
     "outputs_hidden": false
    }
   },
   "outputs": [
    {
     "name": "stdout",
     "output_type": "stream",
     "text": [
      "The p-value is 5.381429814273551e-109 which is less than 0.05\n",
      "Reject the null hypothesis.\n",
      "There is a significant difference in average test scores between male and female students.\n"
     ]
    }
   ],
   "source": [
    "# Interpret the results\n",
    "alpha = 0.05\n",
    "if p_value < alpha:\n",
    "    print(\"The p-value is\", p_value, \"which is less than\", alpha)\n",
    "    print(\"Reject the null hypothesis.\")\n",
    "    print(\"There is a significant difference in average test scores between male and female students.\")\n",
    "else:\n",
    "    print(\"The p-value is\", p_value, \"which is greater than\", alpha)\n",
    "    print(\"Fail to reject the null hypothesis.\")\n",
    "    print(\"There is no significant difference in average test scores between male and female students.\")"
   ]
  },
  {
   "cell_type": "markdown",
   "id": "de44e05b-763e-49d4-aa05-bd663616f4e7",
   "metadata": {},
   "source": [
    "#### There is a difference in Male and Femal Test Scores\n",
    "\n",
    "- Females score higher on average than males."
   ]
  },
  {
   "cell_type": "markdown",
   "id": "3091452ffffbde57",
   "metadata": {
    "collapsed": false,
    "jupyter": {
     "outputs_hidden": false
    }
   },
   "source": [
    "## Looking at the total average scores by ethnic group"
   ]
  },
  {
   "cell_type": "code",
   "execution_count": 49,
   "id": "6dc87acc33b11fe7",
   "metadata": {
    "ExecuteTime": {
     "end_time": "2024-02-21T18:18:33.565081Z",
     "start_time": "2024-02-21T18:18:33.437235Z"
    },
    "collapsed": false,
    "jupyter": {
     "outputs_hidden": false
    }
   },
   "outputs": [
    {
     "data": {
      "text/plain": [
       "<function matplotlib.pyplot.xlabel(xlabel: 'str', fontdict: 'dict[str, Any] | None' = None, labelpad: 'float | None' = None, *, loc: \"Literal['left', 'center', 'right'] | None\" = None, **kwargs) -> 'Text'>"
      ]
     },
     "execution_count": 49,
     "metadata": {},
     "output_type": "execute_result"
    },
    {
     "data": {
      "image/png": "[encoded data removed]",
      "text/plain": [
       "<Figure size 1200x700 with 1 Axes>"
      ]
     },
     "metadata": {},
     "output_type": "display_data"
    }
   ],
   "source": [
    "# 'EthnicGroup' groups are coded as group A, group B, group C, group D, and group E\n",
    "group_A_scores = df[df['EthnicGroup'] == 'group A']['TotalScore']\n",
    "group_B_scores = df[df['EthnicGroup'] == 'group B']['TotalScore']\n",
    "group_C_scores = df[df['EthnicGroup'] == 'group C']['TotalScore']\n",
    "group_D_scores = df[df['EthnicGroup'] == 'group D']['TotalScore']\n",
    "group_E_scores = df[df['EthnicGroup'] == 'group E']['TotalScore']\n",
    "f_stat, p_value = stats.f_oneway(group_A_scores, group_B_scores, group_C_scores, group_D_scores, group_E_scores)\n",
    "\n",
    "# Visualize the data\n",
    "plt.figure(figsize=(12, 7))\n",
    "sns.boxplot(x='EthnicGroup', y='TotalScore', data=df)\n",
    "plt.title('Distribution of Total Test Scores by Ethnic Group')\n",
    "plt.xlabel"
   ]
  },
  {
   "cell_type": "code",
   "execution_count": 45,
   "id": "e0f3133630af6b2f",
   "metadata": {
    "ExecuteTime": {
     "end_time": "2024-02-21T18:18:33.567363Z",
     "start_time": "2024-02-21T18:18:33.563609Z"
    },
    "collapsed": false,
    "jupyter": {
     "outputs_hidden": false
    }
   },
   "outputs": [
    {
     "name": "stdout",
     "output_type": "stream",
     "text": [
      "The p-value is 1.6989147864530418e-250 which is less than 0.05\n",
      "Reject the null hypothesis.\n",
      "There is a significant difference in average test scores the ethnicity of the students.\n"
     ]
    }
   ],
   "source": [
    "# Interpret the results\n",
    "alpha = 0.05\n",
    "if p_value < alpha:\n",
    "    print(\"The p-value is\", p_value, \"which is less than\", alpha)\n",
    "    print(\"Reject the null hypothesis.\")\n",
    "    print(\"There is a significant difference in average test scores the ethnicity of the students.\")\n",
    "else:\n",
    "    print(\"The p-value is\", p_value, \"which is greater than\", alpha)\n",
    "    print(\"Fail to reject the null hypothesis.\")\n",
    "    print(\"There is no significant difference in average test scores between the ethnicity of the students.\")"
   ]
  },
  {
   "cell_type": "markdown",
   "id": "70210a2ec4484571",
   "metadata": {
    "collapsed": false,
    "jupyter": {
     "outputs_hidden": false
    }
   },
   "source": [
    "#### We can see that there is a significant difference in math scores between ethnicities.\n",
    "\n",
    "1.) Group E\n",
    "\n",
    "2.) Group D\n",
    "\n",
    "3.) Group C\n",
    "\n",
    "4.) Group B\n",
    "\n",
    "5.) Group A"
   ]
  },
  {
   "cell_type": "markdown",
   "id": "153d40b0fc8f3d09",
   "metadata": {
    "collapsed": false,
    "jupyter": {
     "outputs_hidden": false
    }
   },
   "source": [
    "## Now looking at the average test scores by parent education"
   ]
  },
  {
   "cell_type": "code",
   "execution_count": 46,
   "id": "5a7190bccb34cd5b",
   "metadata": {
    "ExecuteTime": {
     "end_time": "2024-02-21T18:18:33.717974Z",
     "start_time": "2024-02-21T18:18:33.570549Z"
    },
    "collapsed": false,
    "jupyter": {
     "outputs_hidden": false
    }
   },
   "outputs": [
    {
     "data": {
      "image/png": "[encoded data removed]",
      "text/plain": [
       "<Figure size 2000x1200 with 1 Axes>"
      ]
     },
     "metadata": {},
     "output_type": "display_data"
    }
   ],
   "source": [
    "# 'ParentEduc' is labeled as some high school, high school, some college, associate's degree, bachelor's degree, and master's degree\n",
    "some_highschool_scores = df[df['ParentEduc'] == \"some high school\"]['TotalScore']\n",
    "highschool_scores = df[df['ParentEduc'] == \"high school\"]['TotalScore']\n",
    "some_college_scores = df[df['ParentEduc'] == \"some college\"]['TotalScore']\n",
    "associates_scores = df[df['ParentEduc'] == \"associate's degree\"]['TotalScore']\n",
    "bachelors_scores = df[df['ParentEduc'] == \"bachelor's degree\"]['TotalScore']\n",
    "masters_scores = df[df['ParentEduc'] == \"master's degree\"]['TotalScore']\n",
    "f_stat, p_value = stats.f_oneway(some_highschool_scores, highschool_scores, some_college_scores, associates_scores, bachelors_scores, masters_scores)\n",
    "\n",
    "# Visualize the data\n",
    "plt.figure(figsize=(20, 12))\n",
    "sns.boxplot(x='ParentEduc', y='TotalScore', data=df)\n",
    "plt.xlabel('Parent Education', fontsize=15)\n",
    "plt.ylabel('Math Score', fontsize=15)\n",
    "plt.xticks([0, 1, 2, 3, 4, 5], ['Some High School', 'High School', 'Some College', \"Associate's Degree\", \"Bachelor's Degree\", \"Master's Degree\"], fontsize=12)\n",
    "plt.title('Distribution of Average Test Scores by Parent Education', fontsize=20)\n",
    "plt.show()"
   ]
  },
  {
   "cell_type": "code",
   "execution_count": 47,
   "id": "2885503f-096d-4624-94ba-cb831316d734",
   "metadata": {},
   "outputs": [
    {
     "name": "stdout",
     "output_type": "stream",
     "text": [
      "The p-value is 1.22415965e-315 which is less than 0.05\n",
      "Reject the null hypothesis.\n",
      "There is a significant difference in average test scores between the parent education levels.\n"
     ]
    }
   ],
   "source": [
    "# Interpret the results\n",
    "alpha = 0.05\n",
    "if p_value < alpha:\n",
    "    print(\"The p-value is\", p_value, \"which is less than\", alpha)\n",
    "    print(\"Reject the null hypothesis.\")\n",
    "    print(\"There is a significant difference in average test scores between the parent education levels.\")\n",
    "else:\n",
    "    print(\"The p-value is\", p_value, \"which is greater than\", alpha)\n",
    "    print(\"Fail to reject the null hypothesis.\")\n",
    "    print(\"There is no significant difference in average test scores between the parent education levels.\")"
   ]
  },
  {
   "cell_type": "markdown",
   "id": "377ac24b9632c406",
   "metadata": {
    "collapsed": false,
    "jupyter": {
     "outputs_hidden": false
    }
   },
   "source": [
    "#### We can see that there is a significant difference in math scores between parent education levels.\n",
    "\n",
    "1.) Some College\n",
    "\n",
    "2.) Some High School\n",
    "\n",
    "3.) Associate's Degree\n",
    "\n",
    "4.) High School\n",
    "\n",
    "5.) Bachelor's Degree\n",
    "\n",
    "6.) Master's Degree"
   ]
  },
  {
   "cell_type": "markdown",
   "id": "fbc86b8079b865c2",
   "metadata": {
    "collapsed": false,
    "jupyter": {
     "outputs_hidden": false
    }
   },
   "source": [
    "# Conclusion\n",
    "\n",
    "- We have seen a significant difference in average test scores based on Gender, Ethnicity and Parent Education. \n",
    "- One area I was surprised with was that higher parent education didn't directly translate to higher test scores.\n",
    "- I would like to explore more on the relationship between the parent education and the math scores.\n",
    "- I would also like to explore the other factors and their relationship with the test scores. \n",
    "\n"
   ]
  }
 ],
 "metadata": {
  "kernelspec": {
   "display_name": "Python 3 (ipykernel)",
   "language": "python",
   "name": "python3"
  },
  "language_info": {
   "codemirror_mode": {
    "name": "ipython",
    "version": 3
   },
   "file_extension": ".py",
   "mimetype": "text/x-python",
   "name": "python",
   "nbconvert_exporter": "python",
   "pygments_lexer": "ipython3",
   "version": "3.11.4"
  }
 },
 "nbformat": 4,
 "nbformat_minor": 5
}
