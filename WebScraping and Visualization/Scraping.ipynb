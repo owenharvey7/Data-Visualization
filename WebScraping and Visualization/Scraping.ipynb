{
 "cells": [
  {
   "cell_type": "markdown",
   "source": [
    "# Web Scraping in Python\n",
    "\n",
    "- The goal of this practice is to practice web scraping and data cleaning in Python.\n",
    "- We will use the pandas library to read the html table from a Wikipedia page.\n",
    "- We will clean the data and write it to a csv file.\n",
    "- The data we will scrape is a list of NCAA Division I FBS football stadiums from Wikipedia.\n",
    "- The data is available at https://en.wikipedia.org/wiki/List_of_NCAA_Division_I_FBS_football_stadiums\n",
    "- I will then use the csv file I create to do some data analysis in a separate notebook."
   ],
   "metadata": {
    "collapsed": false
   },
   "id": "de350c0d30cc7f00"
  },
  {
   "cell_type": "code",
   "execution_count": 170,
   "id": "initial_id",
   "metadata": {
    "collapsed": true,
    "ExecuteTime": {
     "end_time": "2024-02-29T02:35:56.297685Z",
     "start_time": "2024-02-29T02:35:56.295789Z"
    }
   },
   "outputs": [],
   "source": [
    "import pandas as pd\n",
    "import re"
   ]
  },
  {
   "cell_type": "code",
   "outputs": [],
   "source": [
    "# Web Scraping Practice\n",
    "\n",
    "table = pd.read_html('https://en.wikipedia.org/wiki/List_of_NCAA_Division_I_FBS_football_stadiums')"
   ],
   "metadata": {
    "collapsed": false,
    "ExecuteTime": {
     "end_time": "2024-02-29T02:35:57.152879Z",
     "start_time": "2024-02-29T02:35:56.699972Z"
    }
   },
   "id": "260182738bd5bad",
   "execution_count": 171
  },
  {
   "cell_type": "code",
   "outputs": [
    {
     "data": {
      "text/plain": "[     Image                                            Stadium         City  \\\n 0      NaN                                   Acrisure Stadium   Pittsburgh   \n 1      NaN                             Aggie Memorial Stadium   Las Cruces   \n 2      NaN                                          Alamodome  San Antonio   \n 3      NaN             Alaska Airlines Field at Husky Stadium      Seattle   \n 4      NaN                                 Albertsons Stadium        Boise   \n ..     ...                                                ...          ...   \n 129    NaN  Veterans Memorial Stadium at Larry Blakeney Field         Troy   \n 130    NaN                                      Waldo Stadium    Kalamazoo   \n 131    NaN                      Warren McGuirk Alumni Stadium       Hadley   \n 132    NaN    Wayne Day Family Field at Carter–Finley Stadium      Raleigh   \n 133    NaN                             Williams-Brice Stadium     Columbia   \n \n     State              Team     Conference  \\\n 0      PA        Pittsburgh            ACC   \n 1      NM  New Mexico State          C-USA   \n 2      TX              UTSA       American   \n 3      WA        Washington        Big Ten   \n 4      ID       Boise State  Mountain West   \n ..    ...               ...            ...   \n 129    AL              Troy       Sun Belt   \n 130    MI  Western Michigan            MAC   \n 131    MA             UMass    Independent   \n 132    NC          NC State            ACC   \n 133    SC    South Carolina            SEC   \n \n                                Capacity  \\\n 0                           68,400[A 1]   \n 1                             30,343[2]   \n 2                                 65000   \n 3                             70,083[3]   \n 4                             36,387[4]   \n ..                                  ...   \n 129                               30402   \n 130                         30,200[161]   \n 131  17,000 (expandable to 21,430[163])   \n 132                         57,583[164]   \n 133                         77,559[165]   \n \n                                                Record1      Built  \\\n 0         70,622 (September 1, 2022 vs. West Virginia)    2001[1]   \n 1              32,993 (September 26, 1998 vs. UTEP)[2]    1978[2]   \n 2    56,743 (September 3, 2011 vs. Northeastern State)       1993   \n 3                 76,125 (September 23, 1995 vs. Army)       1920   \n 4                 36,864 (October 12, 2019 vs. Hawaii)       1970   \n ..                                                 ...        ...   \n 129                31,010 (November 12, 2022 vs. Army)       1950   \n 130      36,361 (September 16, 2000 vs. Indiana State)  1939[162]   \n 131      20,000 (November 25, 1972 vs. Boston College)       1965   \n 132                            57,583 (multiple times)       1966   \n 133          85,199 (October 6, 2012 vs. Georgia)[165]  1934[165]   \n \n       Expanded 2                   Surface  \n 0            NaN                     Grass  \n 1        2005[2]       S5-M Synthetic Turf  \n 2            NaN                SportField  \n 3           2013                 FieldTurf  \n 4           2012                 FieldTurf  \n ..           ...                       ...  \n 129  2003 & 2018                  ProGrass  \n 130    2003[162]                 FieldTurf  \n 131         2014                 FieldTurf  \n 132         2006  Tifway 419 Bermuda Grass  \n 133    1996[165]                     Grass  \n \n [134 rows x 11 columns],\n                                   Stadium      City State           Team  \\\n 0                        Delaware Stadium    Newark    DE       Delaware   \n 1  Future South Florida on-campus stadium     Tampa    FL  South Florida   \n 2                       New Aloha Stadium  Honolulu    HI        Hawaiʻi   \n 3                          New Ryan Field  Evanston    IL   Northwestern   \n \n               Conference     Capacity  \\\n 0  Conference USA (2025)  18,309[166]   \n 1               American        35000   \n 2          Mountain West        35000   \n 3                Big Ten        35000   \n \n                                       Record1                 Built  \\\n 0  23,619  (October 27. 1973 vs. Temple)[166]             1952[166]   \n 1                                           —  2026 (expected)[167]   \n 2                                           —  2028 (expected)[168]   \n 3                                           —              TBA[169]   \n \n    Expanded2    Surface  \n 0        NaN  FieldTurf  \n 1        NaN        TBD  \n 2        NaN        TBD  \n 3        NaN        TBD  ,\n                                   vteCollege football  \\\n 0                                                NCAA   \n 1                                        Competitions   \n 2                                          Division I   \n 3                                                 FBS   \n 4                                                 FCS   \n 5                                         Division II   \n 6                                        Division III   \n 7                                               Other   \n 8                                             Seasons   \n 9                                            Programs   \n 10                                      Conferences 1   \n 11                                           Stadiums   \n 12                                            Records   \n 13                                            Related   \n 14                                               NAIA   \n 15                                       Competitions   \n 16                                        Conferences   \n 17                                       Other topics   \n 18                                              NJCAA   \n 19                                       Competitions   \n 20                                        Conferences   \n 21                                              NCCAA   \n 22                                              Games   \n 23                                              Media   \n 24                                   Related articles   \n 25                                  Non-U.S. football   \n 26  1 Note: Football-only conferences are listed  ...   \n \n                                 vteCollege football.1  \n 0   CompetitionsDivision IFBS National championshi...  \n 1   Division IFBS National championship Playoff Pl...  \n 2   FBS National championship Playoff Playoff Nati...  \n 3   National championship Playoff Playoff National...  \n 4                    Championship Playoff appearances  \n 5                                        Championship  \n 6                                        Championship  \n 7                          Black college championship  \n 8   Division I-A (FBS) Division I-AA (FCS) Divisio...  \n 9              Div I (FBS) Div I (FCS) Div II Div III  \n 10  Big South–OVC CAA Eastern Missouri Valley Pion...  \n 11                                            FBS FCS  \n 12  Overview Teams by wins Win-loss records (FBS) ...  \n 13  Heisman Trophy Winners Curse Non-football prog...  \n 14  Competitions National Championship Conferences...  \n 15                              National Championship  \n 16                     Independent schools Mid-States  \n 17                                   Programs Seasons  \n 18  Competitions National Championship Conferences...  \n 19                              National Championship  \n 20  Midwest Northeast Southwest Junior Western States  \n 21                                       Victory Bowl  \n 22  First games by state Games outside the U.S. Hi...  \n 23                    Radio Television Playoff debate  \n 24  AP rankings Black college classics Community c...  \n 25                             Ireland ONEFA (Mexico)  \n 26  1 Note: Football-only conferences are listed  ...  ,\n                 0                                                  1\n 0    Competitions  Division IFBS National championship Playoff Pl...\n 1      Division I  FBS National championship Playoff Playoff Nati...\n 2             FBS  National championship Playoff Playoff National...\n 3             FCS                   Championship Playoff appearances\n 4     Division II                                       Championship\n 5    Division III                                       Championship\n 6           Other                         Black college championship\n 7         Seasons  Division I-A (FBS) Division I-AA (FCS) Divisio...\n 8        Programs             Div I (FBS) Div I (FCS) Div II Div III\n 9   Conferences 1  Big South–OVC CAA Eastern Missouri Valley Pion...\n 10       Stadiums                                            FBS FCS\n 11        Records  Overview Teams by wins Win-loss records (FBS) ...\n 12        Related  Heisman Trophy Winners Curse Non-football prog...,\n               0                                                  1\n 0    Division I  FBS National championship Playoff Playoff Nati...\n 1           FBS  National championship Playoff Playoff National...\n 2           FCS                   Championship Playoff appearances\n 3   Division II                                       Championship\n 4  Division III                                       Championship\n 5         Other                         Black college championship,\n      0                                                  1\n 0  FBS  National championship Playoff Playoff National...\n 1  FCS                   Championship Playoff appearances,\n               0                               1\n 0  Competitions           National Championship\n 1   Conferences  Independent schools Mid-States\n 2  Other topics                Programs Seasons,\n               0                                                  1\n 0  Competitions                              National Championship\n 1   Conferences  Midwest Northeast Southwest Junior Western States]"
     },
     "execution_count": 172,
     "metadata": {},
     "output_type": "execute_result"
    }
   ],
   "source": [
    "list(table)"
   ],
   "metadata": {
    "collapsed": false,
    "ExecuteTime": {
     "end_time": "2024-02-29T02:35:57.211357Z",
     "start_time": "2024-02-29T02:35:57.204783Z"
    }
   },
   "id": "60f36d00bb16540c",
   "execution_count": 172
  },
  {
   "cell_type": "code",
   "outputs": [
    {
     "data": {
      "text/plain": "   Image                                 Stadium         City State  \\\n0    NaN                        Acrisure Stadium   Pittsburgh    PA   \n1    NaN                  Aggie Memorial Stadium   Las Cruces    NM   \n2    NaN                               Alamodome  San Antonio    TX   \n3    NaN  Alaska Airlines Field at Husky Stadium      Seattle    WA   \n4    NaN                      Albertsons Stadium        Boise    ID   \n\n               Team     Conference     Capacity  \\\n0        Pittsburgh            ACC  68,400[A 1]   \n1  New Mexico State          C-USA    30,343[2]   \n2              UTSA       American        65000   \n3        Washington        Big Ten    70,083[3]   \n4       Boise State  Mountain West    36,387[4]   \n\n                                             Record1    Built Expanded 2  \\\n0       70,622 (September 1, 2022 vs. West Virginia)  2001[1]        NaN   \n1            32,993 (September 26, 1998 vs. UTEP)[2]  1978[2]    2005[2]   \n2  56,743 (September 3, 2011 vs. Northeastern State)     1993        NaN   \n3               76,125 (September 23, 1995 vs. Army)     1920       2013   \n4               36,864 (October 12, 2019 vs. Hawaii)     1970       2012   \n\n               Surface  \n0                Grass  \n1  S5-M Synthetic Turf  \n2           SportField  \n3            FieldTurf  \n4            FieldTurf  ",
      "text/html": "<div>\n<style scoped>\n    .dataframe tbody tr th:only-of-type {\n        vertical-align: middle;\n    }\n\n    .dataframe tbody tr th {\n        vertical-align: top;\n    }\n\n    .dataframe thead th {\n        text-align: right;\n    }\n</style>\n<table border=\"1\" class=\"dataframe\">\n  <thead>\n    <tr style=\"text-align: right;\">\n      <th></th>\n      <th>Image</th>\n      <th>Stadium</th>\n      <th>City</th>\n      <th>State</th>\n      <th>Team</th>\n      <th>Conference</th>\n      <th>Capacity</th>\n      <th>Record1</th>\n      <th>Built</th>\n      <th>Expanded 2</th>\n      <th>Surface</th>\n    </tr>\n  </thead>\n  <tbody>\n    <tr>\n      <th>0</th>\n      <td>NaN</td>\n      <td>Acrisure Stadium</td>\n      <td>Pittsburgh</td>\n      <td>PA</td>\n      <td>Pittsburgh</td>\n      <td>ACC</td>\n      <td>68,400[A 1]</td>\n      <td>70,622 (September 1, 2022 vs. West Virginia)</td>\n      <td>2001[1]</td>\n      <td>NaN</td>\n      <td>Grass</td>\n    </tr>\n    <tr>\n      <th>1</th>\n      <td>NaN</td>\n      <td>Aggie Memorial Stadium</td>\n      <td>Las Cruces</td>\n      <td>NM</td>\n      <td>New Mexico State</td>\n      <td>C-USA</td>\n      <td>30,343[2]</td>\n      <td>32,993 (September 26, 1998 vs. UTEP)[2]</td>\n      <td>1978[2]</td>\n      <td>2005[2]</td>\n      <td>S5-M Synthetic Turf</td>\n    </tr>\n    <tr>\n      <th>2</th>\n      <td>NaN</td>\n      <td>Alamodome</td>\n      <td>San Antonio</td>\n      <td>TX</td>\n      <td>UTSA</td>\n      <td>American</td>\n      <td>65000</td>\n      <td>56,743 (September 3, 2011 vs. Northeastern State)</td>\n      <td>1993</td>\n      <td>NaN</td>\n      <td>SportField</td>\n    </tr>\n    <tr>\n      <th>3</th>\n      <td>NaN</td>\n      <td>Alaska Airlines Field at Husky Stadium</td>\n      <td>Seattle</td>\n      <td>WA</td>\n      <td>Washington</td>\n      <td>Big Ten</td>\n      <td>70,083[3]</td>\n      <td>76,125 (September 23, 1995 vs. Army)</td>\n      <td>1920</td>\n      <td>2013</td>\n      <td>FieldTurf</td>\n    </tr>\n    <tr>\n      <th>4</th>\n      <td>NaN</td>\n      <td>Albertsons Stadium</td>\n      <td>Boise</td>\n      <td>ID</td>\n      <td>Boise State</td>\n      <td>Mountain West</td>\n      <td>36,387[4]</td>\n      <td>36,864 (October 12, 2019 vs. Hawaii)</td>\n      <td>1970</td>\n      <td>2012</td>\n      <td>FieldTurf</td>\n    </tr>\n  </tbody>\n</table>\n</div>"
     },
     "execution_count": 160,
     "metadata": {},
     "output_type": "execute_result"
    }
   ],
   "source": [
    "# The first dataframe in the list is the one we want\n",
    "df = table[0]\n",
    "df.head()"
   ],
   "metadata": {
    "collapsed": false,
    "ExecuteTime": {
     "end_time": "2024-02-29T02:11:44.054411Z",
     "start_time": "2024-02-29T02:11:44.044937Z"
    }
   },
   "id": "4a5efbb15de58303",
   "execution_count": 160
  },
  {
   "cell_type": "code",
   "outputs": [
    {
     "data": {
      "text/plain": "   Image                                 Stadium         City State  \\\n0    NaN                        Acrisure Stadium   Pittsburgh    PA   \n1    NaN                  Aggie Memorial Stadium   Las Cruces    NM   \n2    NaN                               Alamodome  San Antonio    TX   \n3    NaN  Alaska Airlines Field at Husky Stadium      Seattle    WA   \n4    NaN                      Albertsons Stadium        Boise    ID   \n\n               Team     Conference     Capacity  \\\n0        Pittsburgh            ACC  68,400[A 1]   \n1  New Mexico State          C-USA    30,343[2]   \n2              UTSA       American        65000   \n3        Washington        Big Ten    70,083[3]   \n4       Boise State  Mountain West    36,387[4]   \n\n                                             Record1    Built Expanded 2  \\\n0       70,622 (September 1, 2022 vs. West Virginia)  2001[1]        NaN   \n1            32,993 (September 26, 1998 vs. UTEP)[2]  1978[2]    2005[2]   \n2  56,743 (September 3, 2011 vs. Northeastern State)     1993        NaN   \n3               76,125 (September 23, 1995 vs. Army)     1920       2013   \n4               36,864 (October 12, 2019 vs. Hawaii)     1970       2012   \n\n               Surface  \n0                Grass  \n1  S5-M Synthetic Turf  \n2           SportField  \n3            FieldTurf  \n4            FieldTurf  ",
      "text/html": "<div>\n<style scoped>\n    .dataframe tbody tr th:only-of-type {\n        vertical-align: middle;\n    }\n\n    .dataframe tbody tr th {\n        vertical-align: top;\n    }\n\n    .dataframe thead th {\n        text-align: right;\n    }\n</style>\n<table border=\"1\" class=\"dataframe\">\n  <thead>\n    <tr style=\"text-align: right;\">\n      <th></th>\n      <th>Image</th>\n      <th>Stadium</th>\n      <th>City</th>\n      <th>State</th>\n      <th>Team</th>\n      <th>Conference</th>\n      <th>Capacity</th>\n      <th>Record1</th>\n      <th>Built</th>\n      <th>Expanded 2</th>\n      <th>Surface</th>\n    </tr>\n  </thead>\n  <tbody>\n    <tr>\n      <th>0</th>\n      <td>NaN</td>\n      <td>Acrisure Stadium</td>\n      <td>Pittsburgh</td>\n      <td>PA</td>\n      <td>Pittsburgh</td>\n      <td>ACC</td>\n      <td>68,400[A 1]</td>\n      <td>70,622 (September 1, 2022 vs. West Virginia)</td>\n      <td>2001[1]</td>\n      <td>NaN</td>\n      <td>Grass</td>\n    </tr>\n    <tr>\n      <th>1</th>\n      <td>NaN</td>\n      <td>Aggie Memorial Stadium</td>\n      <td>Las Cruces</td>\n      <td>NM</td>\n      <td>New Mexico State</td>\n      <td>C-USA</td>\n      <td>30,343[2]</td>\n      <td>32,993 (September 26, 1998 vs. UTEP)[2]</td>\n      <td>1978[2]</td>\n      <td>2005[2]</td>\n      <td>S5-M Synthetic Turf</td>\n    </tr>\n    <tr>\n      <th>2</th>\n      <td>NaN</td>\n      <td>Alamodome</td>\n      <td>San Antonio</td>\n      <td>TX</td>\n      <td>UTSA</td>\n      <td>American</td>\n      <td>65000</td>\n      <td>56,743 (September 3, 2011 vs. Northeastern State)</td>\n      <td>1993</td>\n      <td>NaN</td>\n      <td>SportField</td>\n    </tr>\n    <tr>\n      <th>3</th>\n      <td>NaN</td>\n      <td>Alaska Airlines Field at Husky Stadium</td>\n      <td>Seattle</td>\n      <td>WA</td>\n      <td>Washington</td>\n      <td>Big Ten</td>\n      <td>70,083[3]</td>\n      <td>76,125 (September 23, 1995 vs. Army)</td>\n      <td>1920</td>\n      <td>2013</td>\n      <td>FieldTurf</td>\n    </tr>\n    <tr>\n      <th>4</th>\n      <td>NaN</td>\n      <td>Albertsons Stadium</td>\n      <td>Boise</td>\n      <td>ID</td>\n      <td>Boise State</td>\n      <td>Mountain West</td>\n      <td>36,387[4]</td>\n      <td>36,864 (October 12, 2019 vs. Hawaii)</td>\n      <td>1970</td>\n      <td>2012</td>\n      <td>FieldTurf</td>\n    </tr>\n  </tbody>\n</table>\n</div>"
     },
     "execution_count": 161,
     "metadata": {},
     "output_type": "execute_result"
    }
   ],
   "source": [
    "# We can also use the match parameter to find the table we want\n",
    "df = pd.read_html('https://en.wikipedia.org/wiki/List_of_NCAA_Division_I_FBS_football_stadiums')[0]\n",
    "df.head()\n"
   ],
   "metadata": {
    "collapsed": false,
    "ExecuteTime": {
     "end_time": "2024-02-29T02:11:45.198052Z",
     "start_time": "2024-02-29T02:11:44.783849Z"
    }
   },
   "id": "a96032bf50c80f12",
   "execution_count": 161
  },
  {
   "cell_type": "code",
   "outputs": [],
   "source": [
    "# Remove the image column\n",
    "df = df.drop('Image', axis=1)"
   ],
   "metadata": {
    "collapsed": false,
    "ExecuteTime": {
     "end_time": "2024-02-29T02:11:45.957245Z",
     "start_time": "2024-02-29T02:11:45.953479Z"
    }
   },
   "id": "6203b4b2c029199e",
   "execution_count": 162
  },
  {
   "cell_type": "code",
   "outputs": [
    {
     "data": {
      "text/plain": "                                  Stadium         City State  \\\n0                        Acrisure Stadium   Pittsburgh    PA   \n1                  Aggie Memorial Stadium   Las Cruces    NM   \n2                               Alamodome  San Antonio    TX   \n3  Alaska Airlines Field at Husky Stadium      Seattle    WA   \n4                      Albertsons Stadium        Boise    ID   \n\n               Team     Conference     Capacity  \\\n0        Pittsburgh            ACC  68,400[A 1]   \n1  New Mexico State          C-USA    30,343[2]   \n2              UTSA       American        65000   \n3        Washington        Big Ten    70,083[3]   \n4       Boise State  Mountain West    36,387[4]   \n\n                                             Record1    Built Expanded 2  \\\n0       70,622 (September 1, 2022 vs. West Virginia)  2001[1]        NaN   \n1            32,993 (September 26, 1998 vs. UTEP)[2]  1978[2]    2005[2]   \n2  56,743 (September 3, 2011 vs. Northeastern State)     1993        NaN   \n3               76,125 (September 23, 1995 vs. Army)     1920       2013   \n4               36,864 (October 12, 2019 vs. Hawaii)     1970       2012   \n\n               Surface  \n0                Grass  \n1  S5-M Synthetic Turf  \n2           SportField  \n3            FieldTurf  \n4            FieldTurf  ",
      "text/html": "<div>\n<style scoped>\n    .dataframe tbody tr th:only-of-type {\n        vertical-align: middle;\n    }\n\n    .dataframe tbody tr th {\n        vertical-align: top;\n    }\n\n    .dataframe thead th {\n        text-align: right;\n    }\n</style>\n<table border=\"1\" class=\"dataframe\">\n  <thead>\n    <tr style=\"text-align: right;\">\n      <th></th>\n      <th>Stadium</th>\n      <th>City</th>\n      <th>State</th>\n      <th>Team</th>\n      <th>Conference</th>\n      <th>Capacity</th>\n      <th>Record1</th>\n      <th>Built</th>\n      <th>Expanded 2</th>\n      <th>Surface</th>\n    </tr>\n  </thead>\n  <tbody>\n    <tr>\n      <th>0</th>\n      <td>Acrisure Stadium</td>\n      <td>Pittsburgh</td>\n      <td>PA</td>\n      <td>Pittsburgh</td>\n      <td>ACC</td>\n      <td>68,400[A 1]</td>\n      <td>70,622 (September 1, 2022 vs. West Virginia)</td>\n      <td>2001[1]</td>\n      <td>NaN</td>\n      <td>Grass</td>\n    </tr>\n    <tr>\n      <th>1</th>\n      <td>Aggie Memorial Stadium</td>\n      <td>Las Cruces</td>\n      <td>NM</td>\n      <td>New Mexico State</td>\n      <td>C-USA</td>\n      <td>30,343[2]</td>\n      <td>32,993 (September 26, 1998 vs. UTEP)[2]</td>\n      <td>1978[2]</td>\n      <td>2005[2]</td>\n      <td>S5-M Synthetic Turf</td>\n    </tr>\n    <tr>\n      <th>2</th>\n      <td>Alamodome</td>\n      <td>San Antonio</td>\n      <td>TX</td>\n      <td>UTSA</td>\n      <td>American</td>\n      <td>65000</td>\n      <td>56,743 (September 3, 2011 vs. Northeastern State)</td>\n      <td>1993</td>\n      <td>NaN</td>\n      <td>SportField</td>\n    </tr>\n    <tr>\n      <th>3</th>\n      <td>Alaska Airlines Field at Husky Stadium</td>\n      <td>Seattle</td>\n      <td>WA</td>\n      <td>Washington</td>\n      <td>Big Ten</td>\n      <td>70,083[3]</td>\n      <td>76,125 (September 23, 1995 vs. Army)</td>\n      <td>1920</td>\n      <td>2013</td>\n      <td>FieldTurf</td>\n    </tr>\n    <tr>\n      <th>4</th>\n      <td>Albertsons Stadium</td>\n      <td>Boise</td>\n      <td>ID</td>\n      <td>Boise State</td>\n      <td>Mountain West</td>\n      <td>36,387[4]</td>\n      <td>36,864 (October 12, 2019 vs. Hawaii)</td>\n      <td>1970</td>\n      <td>2012</td>\n      <td>FieldTurf</td>\n    </tr>\n  </tbody>\n</table>\n</div>"
     },
     "execution_count": 163,
     "metadata": {},
     "output_type": "execute_result"
    }
   ],
   "source": [
    "df.head()"
   ],
   "metadata": {
    "collapsed": false,
    "ExecuteTime": {
     "end_time": "2024-02-29T02:11:46.608133Z",
     "start_time": "2024-02-29T02:11:46.599773Z"
    }
   },
   "id": "3f255be8728ecbd8",
   "execution_count": 163
  },
  {
   "cell_type": "code",
   "outputs": [],
   "source": [
    "# Convert the columns we want to clean to a string.\n",
    "# This is because the columns contain both strings and numbers\n",
    "df['Capacity'] = df['Capacity'].astype(str)\n",
    "df['Built'] = df['Built'].astype(str)\n",
    "df['Expanded 2'] = df['Expanded 2'].astype(str)\n",
    "df['Record1'] = df['Record1'].astype(str)"
   ],
   "metadata": {
    "collapsed": false,
    "ExecuteTime": {
     "end_time": "2024-02-29T02:11:47.278202Z",
     "start_time": "2024-02-29T02:11:47.270618Z"
    }
   },
   "id": "b80b47b031e57152",
   "execution_count": 164
  },
  {
   "cell_type": "code",
   "outputs": [
    {
     "name": "stdout",
     "output_type": "stream",
     "text": [
      "<class 'pandas.core.frame.DataFrame'>\n",
      "RangeIndex: 134 entries, 0 to 133\n",
      "Data columns (total 10 columns):\n",
      " #   Column      Non-Null Count  Dtype \n",
      "---  ------      --------------  ----- \n",
      " 0   Stadium     134 non-null    object\n",
      " 1   City        134 non-null    object\n",
      " 2   State       134 non-null    object\n",
      " 3   Team        134 non-null    object\n",
      " 4   Conference  134 non-null    object\n",
      " 5   Capacity    134 non-null    object\n",
      " 6   Record1     134 non-null    object\n",
      " 7   Built       134 non-null    object\n",
      " 8   Expanded 2  134 non-null    object\n",
      " 9   Surface     134 non-null    object\n",
      "dtypes: object(10)\n",
      "memory usage: 10.6+ KB\n"
     ]
    }
   ],
   "source": [
    "df.info()"
   ],
   "metadata": {
    "collapsed": false,
    "ExecuteTime": {
     "end_time": "2024-02-29T02:11:48.355757Z",
     "start_time": "2024-02-29T02:11:48.340389Z"
    }
   },
   "id": "47ef9f282c1ae3cf",
   "execution_count": 165
  },
  {
   "cell_type": "code",
   "outputs": [],
   "source": [
    "# Define a function to clean the capacity column\n",
    "def clean_capacity(capacity):\n",
    "    # Extract the first part before the comma\n",
    "    first_part = capacity.split(',')[0]\n",
    "    # Remove any brackets and numbers after that\n",
    "    cleaned_capacity = re.sub(r'\\[\\d+\\]', '', first_part)\n",
    "    # Remove any (MonthName day) part\n",
    "    cleaned_capacity = re.sub(r'\\(.*?\\)', '', cleaned_capacity)\n",
    "    # If there's a second part (after comma), extract and add it to the first part\n",
    "    if len(capacity.split(',')) > 1:\n",
    "        second_part = capacity.split(',')[1]\n",
    "        cleaned_capacity += second_part\n",
    "    return cleaned_capacity\n",
    "\n",
    "\n",
    "# Apply the function to the Capacity column\n",
    "df['Capacity'] = df['Capacity'].apply(clean_capacity)\n",
    "df['Built'] = df['Built'].apply(clean_capacity)\n",
    "df['Expanded 2'] = df['Expanded 2'].apply(clean_capacity)\n",
    "df['Record1'] = df['Record1'].apply(clean_capacity)\n",
    "\n",
    "# Print the data so review the cleaning\n",
    "print(df)"
   ],
   "metadata": {
    "collapsed": false
   },
   "id": "cac9e4bbfd33f2e8"
  },
  {
   "cell_type": "code",
   "outputs": [],
   "source": [
    "# write df to a csv file\n",
    "df.to_csv('Division1FBSFootballStadiums.csv', index=False)"
   ],
   "metadata": {
    "collapsed": false,
    "ExecuteTime": {
     "end_time": "2024-02-29T02:12:07.861356Z",
     "start_time": "2024-02-29T02:12:07.852872Z"
    }
   },
   "id": "d6ff15472d912957",
   "execution_count": 168
  }
 ],
 "metadata": {
  "kernelspec": {
   "display_name": "Python 3",
   "language": "python",
   "name": "python3"
  },
  "language_info": {
   "codemirror_mode": {
    "name": "ipython",
    "version": 2
   },
   "file_extension": ".py",
   "mimetype": "text/x-python",
   "name": "python",
   "nbconvert_exporter": "python",
   "pygments_lexer": "ipython2",
   "version": "2.7.6"
  }
 },
 "nbformat": 4,
 "nbformat_minor": 5
}
