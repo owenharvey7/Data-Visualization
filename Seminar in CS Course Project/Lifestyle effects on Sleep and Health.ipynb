{
 "cells": [
  {
   "cell_type": "markdown",
   "metadata": {},
   "source": [
    "# Seminar in Computer Science Course Project\n",
    "## By Owen Harvey\n",
    "### This Project Covers How Lifestyle can Effect Sleep and Overall Health\n",
    "\n",
    "#### For this project I used the [Sleep Health and Lifestyle Dataset](https://www.kaggle.com/datasets/851c829b2a41e6dd0b5a60388cd4a2cfda2d54433450ed12141237416c8161bc)\n",
    "\n",
    "##### About the Data: \n",
    "- The Sleep Health and Lifestyle Dataset comprises 400 rows and 13 columns, covering a wide range of variables related to sleep and daily habits. It includes details such as gender, age, occupation, sleep duration, quality of sleep, physical activity level, stress levels, BMI category, blood pressure, heart rate, daily steps, and the presence or absence of sleep disorders.\n",
    "\n",
    "#### Key Features of the Dataset:\n",
    "- Comprehensive Sleep Metrics: Explore sleep duration, quality, and factors influencing sleep patterns.\n",
    "- Lifestyle Factors: Analyze physical activity levels, stress levels, and BMI categories.\n",
    "- Cardiovascular Health: Examine blood pressure and heart rate measurements.\n",
    "- Sleep Disorder Analysis: Identify the occurrence of sleep disorders such as Insomnia and Sleep Apnea.\n",
    "\n",
    "##### Data Columns:\n",
    "- Person ID: An identifier for each individual.\n",
    "- Gender: The gender of the person (Male/Female).\n",
    "- Age: The age of the person in years.\n",
    "- Occupation: The occupation or profession of the person.\n",
    "- Sleep Duration (hours): The number of hours the person sleeps per day.\n",
    "- Quality of Sleep (scale: 1-10): A subjective rating of the quality of sleep, ranging from 1 to 10.\n",
    "- Physical Activity Level (minutes/day): The number of minutes the person engages in physical activity daily.\n",
    "- Stress Level (scale: 1-10): A subjective rating of the stress level experienced by the person, ranging from 1 to 10.\n",
    "- BMI Category: The BMI category of the person (e.g., Underweight, Normal, Overweight).\n",
    "- Blood Pressure (systolic/diastolic): The blood pressure measurement of the person, indicated as systolic pressure over diastolic pressure.\n",
    "- Heart Rate (bpm): The resting heart rate of the person in beats per minute.\n",
    "- Daily Steps: The number of steps the person takes per day.\n",
    "- Sleep Disorder: The presence or absence of a sleep disorder in the person (None, Insomnia, Sleep Apnea).\n",
    "    - None: The individual does not exhibit any specific sleep disorder.\n",
    "    - Insomnia: The individual experiences difficulty falling asleep or staying asleep, leading to inadequate or poor-quality sleep.\n",
    "    - Sleep Apnea: The individual suffers from pauses in breathing during sleep, resulting in disrupted sleep patterns and potential health risks."
   ]
  },
  {
   "cell_type": "markdown",
   "metadata": {},
   "source": [
    "### This project will contain:\n",
    "1. A brief overview of my Literature Review.\n",
    "2. Data Preprocessing.\n",
    "    - The data I'm using was already gathered and found on Kaggle. \n",
    "3. Regression Analysis.\n",
    "4. A Writen Report."
   ]
  },
  {
   "cell_type": "code",
   "execution_count": null,
   "metadata": {},
   "outputs": [
    {
     "ename": "",
     "evalue": "",
     "output_type": "error",
     "traceback": [
      "\u001b[1;31mRunning cells with 'c:\\msys64\\ucrt64\\bin\\python.exe' requires the ipykernel package.\n",
      "\u001b[1;31mRun the following command to install 'ipykernel' into the Python environment. \n",
      "\u001b[1;31mCommand: 'c:/msys64/ucrt64/bin/python.exe -m pip install ipykernel -U --user --force-reinstall'"
     ]
    }
   ],
   "source": [
    "# Data Preprocessing\n",
    "\n",
    "# Importing the libraries\n",
    "import numpy as np\n",
    "import matplotlib.pyplot as plt\n",
    "import pandas as pd\n",
    "import scikitlearn as sk\n",
    "import sklearn.preprocessing as skp\n",
    "\n",
    "# Importing the dataset\n",
    "df = pd.read_csv('Sleep_health_and_lifestyle_dataset.csv')\n",
    "\n",
    "df.head()"
   ]
  },
  {
   "cell_type": "code",
   "execution_count": null,
   "metadata": {},
   "outputs": [],
   "source": [
    "df.info()"
   ]
  }
 ],
 "metadata": {
  "kernelspec": {
   "display_name": "Python 3",
   "language": "python",
   "name": "python3"
  },
  "language_info": {
   "name": "python",
   "version": "3.11.7"
  }
 },
 "nbformat": 4,
 "nbformat_minor": 2
}
